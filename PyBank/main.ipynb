{
 "cells": [
  {
   "cell_type": "code",
   "execution_count": 2,
   "metadata": {},
   "outputs": [],
   "source": [
    "import os\n",
    "import csv"
   ]
  },
  {
   "cell_type": "code",
   "execution_count": 4,
   "metadata": {},
   "outputs": [
    {
     "name": "stdout",
     "output_type": "stream",
     "text": [
      "/Users/daryarudych/Desktop/repos/python-challenge/PyBank/budget_data.csv\n",
      "Total months: 86\n"
     ]
    }
   ],
   "source": [
    "file_path = os.path.join('/Users/daryarudych/Desktop/repos/python-challenge/PyBank','budget_data.csv')\n",
    "print(file_path)\n",
    "\n",
    "with open(file_path, newline=\"\") as csvfile:\n",
    "    csvreader = csv.reader(csvfile, delimiter=\",\")\n",
    "    headers = next(csvreader, None)\n",
    "    date, revenue = zip(*csvreader)\n",
    "    \n",
    "#Calculating the number of months \n",
    "print(f\"Total months: {len(date)}\")"
   ]
  },
  {
   "cell_type": "code",
   "execution_count": 5,
   "metadata": {},
   "outputs": [
    {
     "name": "stdout",
     "output_type": "stream",
     "text": [
      "[867884.0, 984655.0, 322013.0, -69417.0, 310503.0, 522857.0, 1033096.0, 604885.0, -216386.0, 477532.0, 893810.0, -80353.0, 779806.0, -335203.0, 697845.0, 793163.0, 485070.0, 584122.0, 62729.0, 668179.0, 899906.0, 834719.0, 132003.0, 309978.0, -755566.0, 1170593.0, 252788.0, 1151518.0, 817256.0, 570757.0, 506702.0, -1022534.0, 475062.0, 779976.0, 144175.0, 542494.0, 359333.0, 321469.0, 67780.0, 471435.0, 565603.0, 872480.0, 789480.0, 999942.0, -1196225.0, 268997.0, -687986.0, 1150461.0, 682458.0, 617856.0, 824098.0, 581943.0, 132864.0, 448062.0, 689161.0, 800701.0, 1166643.0, 947333.0, 578668.0, 988505.0, 1139715.0, 1029471.0, 687533.0, -524626.0, 158620.0, 87795.0, 423389.0, 840723.0, 568529.0, 332067.0, 989499.0, 778237.0, 650000.0, -1100387.0, -174946.0, 757143.0, 445709.0, 712961.0, -1163797.0, 569899.0, 768450.0, 102685.0, 795914.0, 60988.0, 138230.0, 671099.0]\n",
      "Net Profit: 38382578.0\n"
     ]
    }
   ],
   "source": [
    "#Offsetting a list of dates by -1 to match the change list \n",
    "new_date = date[1:]\n",
    "\n",
    "#Converting a string list to a float list  \n",
    "new_revenue = []\n",
    "new_revenue = [ float(x) for x in revenue ]\n",
    "print(new_revenue)\n",
    "\n",
    "#Calculating the net profit\n",
    "print(f\"Net Profit: {sum(new_revenue)}\")\n"
   ]
  },
  {
   "cell_type": "code",
   "execution_count": 65,
   "metadata": {},
   "outputs": [
    {
     "name": "stdout",
     "output_type": "stream",
     "text": [
      "[116771.0, -662642.0, -391430.0, 379920.0, 212354.0, 510239.0, -428211.0, -821271.0, 693918.0, 416278.0, -974163.0, 860159.0, -1115009.0, 1033048.0, 95318.0, -308093.0, 99052.0, -521393.0, 605450.0, 231727.0, -65187.0, -702716.0, 177975.0, -1065544.0, 1926159.0, -917805.0, 898730.0, -334262.0, -246499.0, -64055.0, -1529236.0, 1497596.0, 304914.0, -635801.0, 398319.0, -183161.0, -37864.0, -253689.0, 403655.0, 94168.0, 306877.0, -83000.0, 210462.0, -2196167.0, 1465222.0, -956983.0, 1838447.0, -468003.0, -64602.0, 206242.0, -242155.0, -449079.0, 315198.0, 241099.0, 111540.0, 365942.0, -219310.0, -368665.0, 409837.0, 151210.0, -110244.0, -341938.0, -1212159.0, 683246.0, -70825.0, 335594.0, 417334.0, -272194.0, -236462.0, 657432.0, -211262.0, -128237.0, -1750387.0, 925441.0, 932089.0, -311434.0, 267252.0, -1876758.0, 1733696.0, 198551.0, -665765.0, 693229.0, -734926.0, 77242.0, 532869.0]\n",
      "Average change: -2315.1176470588234\n"
     ]
    }
   ],
   "source": [
    "#Calculating the average change in \"Profit/Losses\" between months over the entire period\n",
    "\n",
    "#1 - combine list of revenue values with itself offsetting by 1. Creates pairs of values to be subtracted\n",
    "\n",
    "change_list = [x-y for x, y in zip(new_revenue[1:], new_revenue)]    \n",
    "print(change_list) \n",
    "\n",
    "#2 - see how many values in the list\n",
    "len(change_list)\n",
    "\n",
    "#3 - create a function that calculates the average profit\n",
    "\n",
    "average = sum(change_list)/len(change_list)\n",
    "print(f\"Average change: {average}\")"
   ]
  },
  {
   "cell_type": "code",
   "execution_count": 63,
   "metadata": {},
   "outputs": [
    {
     "name": "stdout",
     "output_type": "stream",
     "text": [
      " Greatest increase in profits: Feb-12 1926159.0\n",
      " Greatest decrease in Profits: Sep-13 -2196167.0\n"
     ]
    }
   ],
   "source": [
    "print(f\" Greatest increase in profits: {new_date[change_list.index(max(change_list))]} {max(change_list)}\")\n",
    "\n",
    "print(f\" Greatest decrease in Profits: {new_date[change_list.index(min(change_list))]} {min(change_list)}\")\n",
    "    "
   ]
  },
  {
   "cell_type": "code",
   "execution_count": 69,
   "metadata": {},
   "outputs": [
    {
     "name": "stdout",
     "output_type": "stream",
     "text": [
      "Financial Analysis Summary:\n",
      "Total months: 86\n",
      "Net Profit: 38382578.0\n",
      "Average change: -2315.1176470588234\n",
      "Greatest increase in profits: Feb-12 1926159.0\n",
      "Greatest decrease in Profits: Sep-13 -2196167.0\n"
     ]
    }
   ],
   "source": [
    "#Printing out the summary \n",
    "print (\"Financial Analysis Summary:\")\n",
    "print(f\"Total months: {len(date)}\")\n",
    "print(f\"Net Profit: {sum(new_revenue)}\")\n",
    "print(f\"Average change: {average}\")\n",
    "print(f\"Greatest increase in profits: {new_date[change_list.index(max(change_list))]} {max(change_list)}\")\n",
    "print(f\"Greatest decrease in Profits: {new_date[change_list.index(min(change_list))]} {min(change_list)}\")\n",
    "    "
   ]
  },
  {
   "cell_type": "code",
   "execution_count": null,
   "metadata": {},
   "outputs": [],
   "source": []
  },
  {
   "cell_type": "code",
   "execution_count": null,
   "metadata": {},
   "outputs": [],
   "source": []
  }
 ],
 "metadata": {
  "kernelspec": {
   "display_name": "Python 3",
   "language": "python",
   "name": "python3"
  },
  "language_info": {
   "codemirror_mode": {
    "name": "ipython",
    "version": 3
   },
   "file_extension": ".py",
   "mimetype": "text/x-python",
   "name": "python",
   "nbconvert_exporter": "python",
   "pygments_lexer": "ipython3",
   "version": "3.6.4"
  }
 },
 "nbformat": 4,
 "nbformat_minor": 2
}
